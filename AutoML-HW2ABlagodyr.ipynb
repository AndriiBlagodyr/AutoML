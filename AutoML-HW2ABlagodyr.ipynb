{
 "cells": [
  {
   "cell_type": "code",
   "execution_count": null,
   "metadata": {},
   "outputs": [],
   "source": [
    "!pip install scikit-optimize"
   ]
  },
  {
   "cell_type": "code",
   "execution_count": 17,
   "metadata": {},
   "outputs": [],
   "source": [
    "import numpy as np\n",
    "import matplotlib.pyplot as plt\n",
    "import pandas as pd\n",
    "from sklearn.feature_extraction.text import CountVectorizer\n",
    "from sklearn.base import BaseEstimator, TransformerMixin, clone\n",
    "from sklearn.model_selection import KFold\n",
    "from sklearn.model_selection import RandomizedSearchCV\n",
    "from sklearn.feature_extraction.text import CountVectorizer\n",
    "from sklearn.metrics import mean_absolute_error\n",
    "from sklearn.pipeline import Pipeline\n",
    "from sklearn.preprocessing import StandardScaler, OneHotEncoder, OrdinalEncoder\n",
    "from sklearn.linear_model import LinearRegression\n",
    "from sklearn.ensemble import RandomForestRegressor\n",
    "from sklearn.model_selection import train_test_split, GridSearchCV\n",
    "from sklearn.compose import ColumnTransformer\n",
    "from sklearn.impute import SimpleImputer\n",
    "from sklearn.feature_selection import SelectFromModel\n",
    "from sklearn.linear_model import ElasticNet\n",
    "from skopt import BayesSearchCV\n",
    "from skopt.space import Real, Categorical, Integer\n",
    "from sklearn.model_selection import train_test_split, GridSearchCV\n",
    "from sklearn.datasets import load_digits\n",
    "from sklearn.svm import SVC"
   ]
  },
  {
   "cell_type": "code",
   "execution_count": 18,
   "metadata": {},
   "outputs": [],
   "source": [
    "class StackingTransformer(BaseEstimator, TransformerMixin):\n",
    "    \"\"\"A transformer that wraps a RegressorMixin `est` predict function.\n",
    "    \n",
    "    It overloads `fit_transform` to do a stacked transform to avoid leakage.\n",
    "    \"\"\"\n",
    "    def __init__(self, est):\n",
    "        self.est = est\n",
    "        \n",
    "    def fit(self, X, y=None):\n",
    "        if y is None:\n",
    "            raise ValueError('{}.fit requires y to be not None'.format(self))\n",
    "        self.est.fit(X, y)\n",
    "        return self\n",
    "    \n",
    "    def transform(self, X):\n",
    "        return self.est.predict(X)[:, np.newaxis]\n",
    "    \n",
    "    def fit_transform(self, X, y=None):\n",
    "        if y is None:\n",
    "            raise ValueError('{}.fit requires y to be not None'.format(self))\n",
    "        self.models_ = []\n",
    "        out = np.empty_like(y)[:, np.newaxis]\n",
    "        for train, test in KFold(5, shuffle=True, random_state=0).split(X):\n",
    "            self.models_.append(clone(self.est).fit(X[train], y[train]))\n",
    "            out[test, 0] = self.models_[-1].predict(X[test])\n",
    "        self.est = self.models_[0]\n",
    "        return out"
   ]
  },
  {
   "cell_type": "code",
   "execution_count": 19,
   "metadata": {},
   "outputs": [
    {
     "data": {
      "text/html": [
       "<div>\n",
       "<style scoped>\n",
       "    .dataframe tbody tr th:only-of-type {\n",
       "        vertical-align: middle;\n",
       "    }\n",
       "\n",
       "    .dataframe tbody tr th {\n",
       "        vertical-align: top;\n",
       "    }\n",
       "\n",
       "    .dataframe thead th {\n",
       "        text-align: right;\n",
       "    }\n",
       "</style>\n",
       "<table border=\"1\" class=\"dataframe\">\n",
       "  <thead>\n",
       "    <tr style=\"text-align: right;\">\n",
       "      <th></th>\n",
       "      <th>loss</th>\n",
       "      <th>Exposure</th>\n",
       "      <th>Rating_Class</th>\n",
       "      <th>Sub_Rating_Class</th>\n",
       "      <th>Renewal_class</th>\n",
       "      <th>Sub_Renewal_Class</th>\n",
       "      <th>Property_size</th>\n",
       "      <th>Residents</th>\n",
       "      <th>Commercial</th>\n",
       "      <th>Norm_fire_risk</th>\n",
       "      <th>...</th>\n",
       "      <th>crime_arson</th>\n",
       "      <th>crime_burglary</th>\n",
       "      <th>crime_neighbour_watch</th>\n",
       "      <th>crime_community</th>\n",
       "      <th>crime_risk</th>\n",
       "      <th>Geographical_risk</th>\n",
       "      <th>Weather_risk</th>\n",
       "      <th>ISO</th>\n",
       "      <th>ISO_cat</th>\n",
       "      <th>ISO_desc</th>\n",
       "    </tr>\n",
       "  </thead>\n",
       "  <tbody>\n",
       "    <tr>\n",
       "      <th>0</th>\n",
       "      <td>0.07</td>\n",
       "      <td>3.0</td>\n",
       "      <td>H1</td>\n",
       "      <td>NaN</td>\n",
       "      <td>NaN</td>\n",
       "      <td>NaN</td>\n",
       "      <td>3.0</td>\n",
       "      <td>4.0</td>\n",
       "      <td>NaN</td>\n",
       "      <td>4.314082</td>\n",
       "      <td>...</td>\n",
       "      <td>0.939346</td>\n",
       "      <td>1.708534</td>\n",
       "      <td>0.808015</td>\n",
       "      <td>1.040819</td>\n",
       "      <td>1.171366</td>\n",
       "      <td>0.284447</td>\n",
       "      <td>0.313157</td>\n",
       "      <td>5</td>\n",
       "      <td>ISO 5 - Modified or Semi Fire Resistive (MFR o...</td>\n",
       "      <td>which and floors. greater roof _—– modified an...</td>\n",
       "    </tr>\n",
       "    <tr>\n",
       "      <th>1</th>\n",
       "      <td>0.13</td>\n",
       "      <td>NaN</td>\n",
       "      <td>M1</td>\n",
       "      <td>NaN</td>\n",
       "      <td>NaN</td>\n",
       "      <td>NaN</td>\n",
       "      <td>6.0</td>\n",
       "      <td>1.0</td>\n",
       "      <td>NaN</td>\n",
       "      <td>4.171214</td>\n",
       "      <td>...</td>\n",
       "      <td>NaN</td>\n",
       "      <td>NaN</td>\n",
       "      <td>NaN</td>\n",
       "      <td>NaN</td>\n",
       "      <td>NaN</td>\n",
       "      <td>0.006305</td>\n",
       "      <td>0.889677</td>\n",
       "      <td>6</td>\n",
       "      <td>ISO 6 - Fire Resistive (FR)</td>\n",
       "      <td>bearing are walls deck/cover precast and/or co...</td>\n",
       "    </tr>\n",
       "    <tr>\n",
       "      <th>2</th>\n",
       "      <td>0.02</td>\n",
       "      <td>NaN</td>\n",
       "      <td>M1</td>\n",
       "      <td>NaN</td>\n",
       "      <td>NaN</td>\n",
       "      <td>NaN</td>\n",
       "      <td>4.0</td>\n",
       "      <td>1.0</td>\n",
       "      <td>NaN</td>\n",
       "      <td>4.171214</td>\n",
       "      <td>...</td>\n",
       "      <td>NaN</td>\n",
       "      <td>NaN</td>\n",
       "      <td>NaN</td>\n",
       "      <td>NaN</td>\n",
       "      <td>NaN</td>\n",
       "      <td>0.019372</td>\n",
       "      <td>0.276507</td>\n",
       "      <td>1</td>\n",
       "      <td>ISO 1 Frame (combustible walls or roof)</td>\n",
       "      <td>*BUR 1B and covers the *Single-ply wood/hardip...</td>\n",
       "    </tr>\n",
       "    <tr>\n",
       "      <th>3</th>\n",
       "      <td>0.13</td>\n",
       "      <td>NaN</td>\n",
       "      <td>M1</td>\n",
       "      <td>NaN</td>\n",
       "      <td>NaN</td>\n",
       "      <td>NaN</td>\n",
       "      <td>2.0</td>\n",
       "      <td>1.0</td>\n",
       "      <td>NaN</td>\n",
       "      <td>4.171214</td>\n",
       "      <td>...</td>\n",
       "      <td>1.632539</td>\n",
       "      <td>1.205554</td>\n",
       "      <td>1.999838</td>\n",
       "      <td>1.665336</td>\n",
       "      <td>1.779279</td>\n",
       "      <td>0.085413</td>\n",
       "      <td>0.124679</td>\n",
       "      <td>1</td>\n",
       "      <td>ISO 1 Frame (combustible walls or roof)</td>\n",
       "      <td>frame anchorage are wood. *Less Habitational, ...</td>\n",
       "    </tr>\n",
       "    <tr>\n",
       "      <th>4</th>\n",
       "      <td>0.04</td>\n",
       "      <td>3.0</td>\n",
       "      <td>H1</td>\n",
       "      <td>NaN</td>\n",
       "      <td>NaN</td>\n",
       "      <td>NaN</td>\n",
       "      <td>4.0</td>\n",
       "      <td>3.0</td>\n",
       "      <td>NaN</td>\n",
       "      <td>4.314082</td>\n",
       "      <td>...</td>\n",
       "      <td>0.638615</td>\n",
       "      <td>0.567431</td>\n",
       "      <td>0.751454</td>\n",
       "      <td>0.585363</td>\n",
       "      <td>0.729587</td>\n",
       "      <td>5.570830</td>\n",
       "      <td>0.703054</td>\n",
       "      <td>6</td>\n",
       "      <td>ISO 6 - Fire Resistive (FR)</td>\n",
       "      <td>is roof deck structural on roof - poured occup...</td>\n",
       "    </tr>\n",
       "  </tbody>\n",
       "</table>\n",
       "<p>5 rows × 31 columns</p>\n",
       "</div>"
      ],
      "text/plain": [
       "   loss  Exposure Rating_Class Sub_Rating_Class Renewal_class  \\\n",
       "0  0.07       3.0           H1              NaN           NaN   \n",
       "1  0.13       NaN           M1              NaN           NaN   \n",
       "2  0.02       NaN           M1              NaN           NaN   \n",
       "3  0.13       NaN           M1              NaN           NaN   \n",
       "4  0.04       3.0           H1              NaN           NaN   \n",
       "\n",
       "  Sub_Renewal_Class  Property_size  Residents Commercial  Norm_fire_risk  ...  \\\n",
       "0               NaN            3.0        4.0        NaN        4.314082  ...   \n",
       "1               NaN            6.0        1.0        NaN        4.171214  ...   \n",
       "2               NaN            4.0        1.0        NaN        4.171214  ...   \n",
       "3               NaN            2.0        1.0        NaN        4.171214  ...   \n",
       "4               NaN            4.0        3.0        NaN        4.314082  ...   \n",
       "\n",
       "   crime_arson  crime_burglary  crime_neighbour_watch  crime_community  \\\n",
       "0     0.939346        1.708534               0.808015         1.040819   \n",
       "1          NaN             NaN                    NaN              NaN   \n",
       "2          NaN             NaN                    NaN              NaN   \n",
       "3     1.632539        1.205554               1.999838         1.665336   \n",
       "4     0.638615        0.567431               0.751454         0.585363   \n",
       "\n",
       "   crime_risk  Geographical_risk  Weather_risk ISO  \\\n",
       "0    1.171366           0.284447      0.313157   5   \n",
       "1         NaN           0.006305      0.889677   6   \n",
       "2         NaN           0.019372      0.276507   1   \n",
       "3    1.779279           0.085413      0.124679   1   \n",
       "4    0.729587           5.570830      0.703054   6   \n",
       "\n",
       "                                             ISO_cat  \\\n",
       "0  ISO 5 - Modified or Semi Fire Resistive (MFR o...   \n",
       "1                        ISO 6 - Fire Resistive (FR)   \n",
       "2            ISO 1 Frame (combustible walls or roof)   \n",
       "3            ISO 1 Frame (combustible walls or roof)   \n",
       "4                        ISO 6 - Fire Resistive (FR)   \n",
       "\n",
       "                                            ISO_desc  \n",
       "0  which and floors. greater roof _—– modified an...  \n",
       "1  bearing are walls deck/cover precast and/or co...  \n",
       "2  *BUR 1B and covers the *Single-ply wood/hardip...  \n",
       "3  frame anchorage are wood. *Less Habitational, ...  \n",
       "4  is roof deck structural on roof - poured occup...  \n",
       "\n",
       "[5 rows x 31 columns]"
      ]
     },
     "execution_count": 19,
     "metadata": {},
     "output_type": "execute_result"
    }
   ],
   "source": [
    "# 1. Reads provided data.\n",
    "url = 'https://s3.amazonaws.com/datarobot_public_datasets/DR_Demo_Fire_Ins_Loss_only.csv'\n",
    "df = pd.read_csv(url)\n",
    "df.head()"
   ]
  },
  {
   "cell_type": "code",
   "execution_count": 20,
   "metadata": {},
   "outputs": [],
   "source": [
    "# 2. Does exploratory data analysis.\n",
    "types_dict = {\n",
    "  \"object\": \"Categorical\",\n",
    "  \"float64\": \"Numeric\",\n",
    "  \"int64\": \"Numeric\",\n",
    "  \"datetime64[ns]\": \"DateTime\"\n",
    "}\n",
    "dict_types = {}\n",
    "def get_categories(data_frame):\n",
    "    for col in data_frame.columns:\n",
    "        if(str(df[col].dtype)=='object' and df[col].nunique() > df[col].count()*0.6 ):\n",
    "            print(f\"{col} - Text\")\n",
    "            dict_types[str(col)]=\"Text\"\n",
    "        else:\n",
    "            print(f\"{col} - {types_dict[str(df[col].dtype)]}\")  \n",
    "            dict_types[str(col)]=str(types_dict[str(df[col].dtype)])\n",
    "            \n"
   ]
  },
  {
   "cell_type": "code",
   "execution_count": 21,
   "metadata": {},
   "outputs": [
    {
     "name": "stdout",
     "output_type": "stream",
     "text": [
      "loss - Numeric\n",
      "Exposure - Numeric\n",
      "Rating_Class - Categorical\n",
      "Sub_Rating_Class - Categorical\n",
      "Renewal_class - Categorical\n",
      "Sub_Renewal_Class - Categorical\n",
      "Property_size - Numeric\n",
      "Residents - Numeric\n",
      "Commercial - Categorical\n",
      "Norm_fire_risk - Numeric\n",
      "Norm_monthly_rent - Numeric\n",
      "Loan_mortgage - Numeric\n",
      "No_claim_Years - Numeric\n",
      "Previous_claims - Numeric\n",
      "Norm_area_m - Numeric\n",
      "Premium_remain - Numeric\n",
      "Premium_renew - Numeric\n",
      "Renewal_Type - Categorical\n",
      "crime_property_type - Numeric\n",
      "crime_residents - Numeric\n",
      "crime_area - Numeric\n",
      "crime_arson - Numeric\n",
      "crime_burglary - Numeric\n",
      "crime_neighbour_watch - Numeric\n",
      "crime_community - Numeric\n",
      "crime_risk - Numeric\n",
      "Geographical_risk - Numeric\n",
      "Weather_risk - Numeric\n",
      "ISO - Numeric\n",
      "ISO_cat - Categorical\n",
      "ISO_desc - Text\n",
      "{'loss': 'Numeric', 'Exposure': 'Numeric', 'Rating_Class': 'Categorical', 'Sub_Rating_Class': 'Categorical', 'Renewal_class': 'Categorical', 'Sub_Renewal_Class': 'Categorical', 'Property_size': 'Numeric', 'Residents': 'Numeric', 'Commercial': 'Categorical', 'Norm_fire_risk': 'Numeric', 'Norm_monthly_rent': 'Numeric', 'Loan_mortgage': 'Numeric', 'No_claim_Years': 'Numeric', 'Previous_claims': 'Numeric', 'Norm_area_m': 'Numeric', 'Premium_remain': 'Numeric', 'Premium_renew': 'Numeric', 'Renewal_Type': 'Categorical', 'crime_property_type': 'Numeric', 'crime_residents': 'Numeric', 'crime_area': 'Numeric', 'crime_arson': 'Numeric', 'crime_burglary': 'Numeric', 'crime_neighbour_watch': 'Numeric', 'crime_community': 'Numeric', 'crime_risk': 'Numeric', 'Geographical_risk': 'Numeric', 'Weather_risk': 'Numeric', 'ISO': 'Numeric', 'ISO_cat': 'Categorical', 'ISO_desc': 'Text'}\n"
     ]
    }
   ],
   "source": [
    "get_categories(df)\n",
    "print(dict_types)"
   ]
  },
  {
   "cell_type": "code",
   "execution_count": 22,
   "metadata": {},
   "outputs": [],
   "source": [
    "target_feature  = 'loss'\n",
    "categorical_features = ['Rating_Class', 'Sub_Rating_Class', 'Renewal_class', 'Sub_Renewal_Class', 'Commercial', 'Renewal_Type', 'ISO_cat']\n",
    "numeric_features = ['Exposure', 'Property_size', 'Residents', 'Norm_fire_risk', 'Norm_monthly_rent', 'Loan_mortgage', 'No_claim_Years', 'Previous_claims', 'Norm_area_m', \n",
    "                    'Premium_remain', 'Premium_renew', 'crime_property_type', 'crime_residents', 'crime_area', 'crime_arson', 'crime_burglary', 'crime_neighbour_watch',\n",
    "                    'crime_community', 'crime_risk', 'Geographical_risk', 'Weather_risk', 'ISO']\n",
    "text_features = ['ISO_desc']"
   ]
  },
  {
   "cell_type": "code",
   "execution_count": 23,
   "metadata": {},
   "outputs": [],
   "source": [
    "y = df.pop(target_feature)\n",
    "X = df"
   ]
  },
  {
   "cell_type": "code",
   "execution_count": 24,
   "metadata": {},
   "outputs": [
    {
     "data": {
      "text/plain": [
       "<matplotlib.axes._subplots.AxesSubplot at 0x295be5c1288>"
      ]
     },
     "execution_count": 24,
     "metadata": {},
     "output_type": "execute_result"
    },
    {
     "data": {
      "image/png": "[encoded data removed]",
      "text/plain": [
       "<Figure size 432x288 with 1 Axes>"
      ]
     },
     "metadata": {
      "needs_background": "light"
     },
     "output_type": "display_data"
    }
   ],
   "source": [
    "y.plot.hist(50)"
   ]
  },
  {
   "cell_type": "code",
   "execution_count": 25,
   "metadata": {},
   "outputs": [],
   "source": [
    "X_train, X_test, y_train, y_test = train_test_split(X, y, test_size=0.2, random_state=0, shuffle=True)\n",
    "\n",
    "# y should be an ndarray\n",
    "y_train = y_train.values\n",
    "y_test = y_test.values"
   ]
  },
  {
   "cell_type": "code",
   "execution_count": 26,
   "metadata": {},
   "outputs": [
    {
     "name": "stdout",
     "output_type": "stream",
     "text": [
      "model score: 0.035\n"
     ]
    }
   ],
   "source": [
    "numeric_pipeline = Pipeline(steps=[\n",
    "    ('imputer', SimpleImputer(strategy='constant', fill_value=-99999)),\n",
    "    ])\n",
    "\n",
    "categorical_pipeline = Pipeline(steps=[\n",
    "    ('imputer', SimpleImputer(strategy='constant', fill_value='missing')),\n",
    "    ('onehot', OneHotEncoder(handle_unknown='ignore')),\n",
    "    ('fx_selection', SelectFromModel(ElasticNet(alpha=0.1), max_features=50, threshold=None))\n",
    "])\n",
    "\n",
    "text_pipeline = Pipeline(steps=[\n",
    "    ('bow', CountVectorizer()),\n",
    "    ('bow_reg', StackingTransformer(ElasticNet(alpha=0.1)))\n",
    "])\n",
    "\n",
    "preprocessor = ColumnTransformer(\n",
    "    transformers=[\n",
    "        ('num', numeric_pipeline, numeric_features),\n",
    "        ('cat', categorical_pipeline, categorical_features),\n",
    "        ('text', text_pipeline, text_features[0])\n",
    "    ])\n",
    "\n",
    "# Append estimator to preprocessing pipeline.\n",
    "# Now we have a full prediction pipeline.\n",
    "opt = Pipeline(steps=[('preprocessor', preprocessor),\n",
    "                      ('rf', LinearRegression())])\n",
    "opt.fit(X_train, y_train)\n",
    "print(\"model score: %.3f\" % mean_absolute_error(y_test, est.predict(X_test)))"
   ]
  },
  {
   "cell_type": "code",
   "execution_count": 27,
   "metadata": {},
   "outputs": [
    {
     "data": {
      "text/plain": [
       "BayesSearchCV(cv=4, error_score='raise',\n",
       "              estimator=Pipeline(memory=None,\n",
       "                                 steps=[('preprocessor',\n",
       "                                         ColumnTransformer(n_jobs=None,\n",
       "                                                           remainder='drop',\n",
       "                                                           sparse_threshold=0.3,\n",
       "                                                           transformer_weights=None,\n",
       "                                                           transformers=[('num',\n",
       "                                                                          Pipeline(memory=None,\n",
       "                                                                                   steps=[('imputer',\n",
       "                                                                                           SimpleImputer(add_indicator=False,\n",
       "                                                                                                         copy=True,\n",
       "                                                                                                         fill_value=-99999,\n",
       "                                                                                                         missing_values=nan,\n",
       "                                                                                                         strategy='constant',\n",
       "                                                                                                         ver...\n",
       "              pre_dispatch='2*n_jobs', random_state=0, refit=True,\n",
       "              return_train_score=False, scoring=None,\n",
       "              search_spaces={'rf__max_depth': Integer(low=1, high=25, prior='uniform', transform='identity'),\n",
       "                             'rf__max_features': Integer(low=2, high=10, prior='uniform', transform='identity'),\n",
       "                             'rf__n_estimators': Integer(low=100, high=1000, prior='uniform', transform='identity')},\n",
       "              verbose=0)"
      ]
     },
     "execution_count": 27,
     "metadata": {},
     "output_type": "execute_result"
    }
   ],
   "source": [
    "param_grid = {'rf__n_estimators': Integer( 100, 1000, prior='uniform'),\n",
    "              'rf__max_depth': Integer(1, 25, prior='uniform'),\n",
    "              'rf__max_features': Integer(2, 10, prior='uniform')}\n",
    "opt = BayesSearchCV( \n",
    "    est,\n",
    "    param_grid,\n",
    "    optimizer_kwargs={'base_estimator': 'RF'},\n",
    "    n_iter=40,\n",
    "    cv=4,\n",
    "    random_state=0)\n",
    "opt.fit(X_train, y_train)"
   ]
  },
  {
   "cell_type": "code",
   "execution_count": 35,
   "metadata": {},
   "outputs": [
    {
     "name": "stdout",
     "output_type": "stream",
     "text": [
      "val. score: 0.2113540423170325\n",
      "test score: 0.2526586691619216\n"
     ]
    }
   ],
   "source": [
    "print(\"val. score: %s\" % opt.best_score_)\n",
    "print(\"test score: %s\" % opt.score(X_test, y_test))"
   ]
  },
  {
   "cell_type": "code",
   "execution_count": null,
   "metadata": {},
   "outputs": [],
   "source": []
  }
 ],
 "metadata": {
  "kernelspec": {
   "display_name": "Python 3",
   "language": "python",
   "name": "python3"
  },
  "language_info": {
   "codemirror_mode": {
    "name": "ipython",
    "version": 3
   },
   "file_extension": ".py",
   "mimetype": "text/x-python",
   "name": "python",
   "nbconvert_exporter": "python",
   "pygments_lexer": "ipython3",
   "version": "3.7.7"
  }
 },
 "nbformat": 4,
 "nbformat_minor": 4
}
